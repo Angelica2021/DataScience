{
 "cells": [
  {
   "cell_type": "code",
   "execution_count": 110,
   "id": "b23e9688",
   "metadata": {},
   "outputs": [],
   "source": [
    "file= open(\"ciencia_de_datos_wikipedia.txt\", \"r\")\n",
    "f=file.read()"
   ]
  },
  {
   "cell_type": "code",
   "execution_count": 125,
   "id": "4ddf7d8c",
   "metadata": {},
   "outputs": [
    {
     "name": "stdout",
     "output_type": "stream",
     "text": [
      "El número de parrafos es:  4\n",
      "El número de caracteres es 1155\n",
      "El número de caracteres sin repetir es 41\n"
     ]
    }
   ],
   "source": [
    "#Buscando en no. de parrafos, caracteres y caracteres sin repetir\n",
    "caracteres=[]\n",
    "c1=0\n",
    "\n",
    "for i in f:\n",
    "    caracteres.append(i)\n",
    "    \n",
    "for i in range(len(caracteres)):\n",
    "    if caracteres[i]==\"\\n\" and caracteres[i-1] != \"\\n\":\n",
    "        c1+=1\n",
    "        \n",
    "print(\"El número de parrafos es: \",c1)\n",
    "\n",
    "car_dif= [caracteres[0]]\n",
    "\n",
    "for i in caracteres:\n",
    "    if i not in car_dif:\n",
    "        car_dif.append(i)\n",
    "    \n",
    "print(\"El número de caracteres es\", len(caracteres))\n",
    "print(\"El número de caracteres sin repetir es\", len(car_dif))\n",
    "\n"
   ]
  },
  {
   "cell_type": "code",
   "execution_count": null,
   "id": "949ffbab",
   "metadata": {},
   "outputs": [],
   "source": [
    "#car_dif"
   ]
  },
  {
   "cell_type": "code",
   "execution_count": 130,
   "id": "3e95a27f",
   "metadata": {},
   "outputs": [
    {
     "name": "stdout",
     "output_type": "stream",
     "text": [
      "El número de palabras es:  176\n",
      "El número de palabras distintas es:  106\n"
     ]
    }
   ],
   "source": [
    "#Buscando el número de palabras\n",
    "\n",
    "palabras=[]\n",
    "palabra=\"\"\n",
    "\n",
    "for i in range(len(caracteres)):\n",
    "    if caracteres[i] == ',' or caracteres[i] =='.' or caracteres[i] =='\"\"':\n",
    "        caracteres.pop(i)\n",
    "\n",
    "#for i in caracteres:\n",
    "#    if i == ',' :\n",
    "#        palabras.remove(',')\n",
    "#    if i =='.':   \n",
    "#        palabras.remove('.')\n",
    "#    if i== '\"\"':\n",
    "#        palabras.remove('\"\"')\n",
    "        \n",
    "\n",
    "for i in range(len(caracteres)):\n",
    "    if caracteres[i] != \"\\n\" and caracteres[i] !=\" \" :\n",
    "        palabra+=caracteres[i];\n",
    "    else:\n",
    "        palabras.append(palabra)\n",
    "        palabra=\"\"\n",
    "        \n",
    "for i in palabras:\n",
    "    if i== '':\n",
    "        palabras.remove('')\n",
    "print(\"El número de palabras es: \", len(palabras))\n",
    "\n",
    "pala_dif=[palabras[0]]\n",
    "\n",
    "for i in palabras:\n",
    "    if i not in pala_dif:\n",
    "        pala_dif.append(i)\n",
    "    \n",
    "print(\"El número de palabras distintas es: \", len(pala_dif))\n"
   ]
  },
  {
   "cell_type": "code",
   "execution_count": 131,
   "id": "2b98db71",
   "metadata": {},
   "outputs": [
    {
     "data": {
      "text/plain": [
       "['La',\n",
       " 'ciencia',\n",
       " 'de',\n",
       " 'datos',\n",
       " 'es',\n",
       " 'un',\n",
       " 'campo',\n",
       " 'interdisciplinario',\n",
       " 'que',\n",
       " 'con',\n",
       " 'métodos',\n",
       " 'científicos',\n",
       " 'extrae',\n",
       " 'conocimiento',\n",
       " 'estructurados',\n",
       " 'o',\n",
       " 'no',\n",
       " 'Es',\n",
       " 'una',\n",
       " 'combinación',\n",
       " 'campos',\n",
       " 'análisis',\n",
       " 'como',\n",
       " 'la',\n",
       " 'estadística',\n",
       " 'minería',\n",
       " 'el',\n",
       " 'aprendizaje',\n",
       " 'automático',\n",
       " 'y',\n",
       " 'analítica',\n",
       " 'predictiva',\n",
       " 'El',\n",
       " 'concepto',\n",
       " 'reúne',\n",
       " 'estadísticas',\n",
       " 'sus',\n",
       " 'relacionados',\n",
       " 'para',\n",
       " 'comprender',\n",
       " 'analizar',\n",
       " 'los',\n",
       " 'fenómenos',\n",
       " 'reales',\n",
       " 'Emplea',\n",
       " 'técnicas',\n",
       " 'teorías',\n",
       " 'extraídas',\n",
       " 'muchos',\n",
       " 'dentro',\n",
       " 'del',\n",
       " 'contexto',\n",
       " 'las',\n",
       " 'matemáticas',\n",
       " 'información',\n",
       " 'informática',\n",
       " 'ganador',\n",
       " 'premio',\n",
       " 'Turing',\n",
       " 'Jim',\n",
       " 'Gray',\n",
       " 'imaginó',\n",
       " '\"cuarto',\n",
       " 'paradigma\"',\n",
       " '(empírico',\n",
       " 'teórico',\n",
       " 'computacional',\n",
       " 'ahora',\n",
       " 'basado',\n",
       " 'en',\n",
       " 'datos)',\n",
       " 'afirmó',\n",
       " '\"todo',\n",
       " 'lo',\n",
       " 'relacionado',\n",
       " 'está',\n",
       " 'cambiando',\n",
       " 'debido',\n",
       " 'al',\n",
       " 'impacto',\n",
       " 'tecnología',\n",
       " 'diluvio',\n",
       " 'datos\"',\n",
       " 'En',\n",
       " 'este',\n",
       " 'nuevo',\n",
       " 'paradigma',\n",
       " 'investigadores',\n",
       " 'se',\n",
       " 'apoyan',\n",
       " 'sistemas',\n",
       " 'procesos',\n",
       " 'son',\n",
       " 'muy',\n",
       " 'diferentes',\n",
       " 'a',\n",
       " 'utilizados',\n",
       " 'pasado',\n",
       " 'modelos',\n",
       " 'ecuaciones',\n",
       " 'algoritmos',\n",
       " 'así',\n",
       " 'evaluación',\n",
       " 'e',\n",
       " 'interpretación',\n",
       " 'resultados']"
      ]
     },
     "execution_count": 131,
     "metadata": {},
     "output_type": "execute_result"
    }
   ],
   "source": [
    "pala_dif"
   ]
  },
  {
   "cell_type": "code",
   "execution_count": null,
   "id": "a7e92d5d",
   "metadata": {},
   "outputs": [],
   "source": []
  }
 ],
 "metadata": {
  "kernelspec": {
   "display_name": "Python 3 (ipykernel)",
   "language": "python",
   "name": "python3"
  },
  "language_info": {
   "codemirror_mode": {
    "name": "ipython",
    "version": 3
   },
   "file_extension": ".py",
   "mimetype": "text/x-python",
   "name": "python",
   "nbconvert_exporter": "python",
   "pygments_lexer": "ipython3",
   "version": "3.9.13"
  }
 },
 "nbformat": 4,
 "nbformat_minor": 5
}
