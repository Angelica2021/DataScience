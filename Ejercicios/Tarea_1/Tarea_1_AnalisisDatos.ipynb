{
 "cells": [
  {
   "cell_type": "markdown",
   "id": "02791d07",
   "metadata": {},
   "source": [
    "# Tarea 1\n",
    "\n",
    "Angélica Escobedo Torres\n",
    "\n",
    "Leer documento de correos para:\n",
    "\n",
    "- Obtener una lista con los diferentes dominios\n",
    "- Crear un nuevo documento indicando nombre de usuario y número de vocales que contiene el nombre"
   ]
  },
  {
   "cell_type": "code",
   "execution_count": 155,
   "id": "54fc509c",
   "metadata": {},
   "outputs": [],
   "source": [
    "#paquetes usados\n",
    "import pandas as pd\n",
    "import numpy as np"
   ]
  },
  {
   "cell_type": "markdown",
   "id": "53c8e28c",
   "metadata": {},
   "source": [
    "## Parte 1"
   ]
  },
  {
   "cell_type": "code",
   "execution_count": 162,
   "id": "66307dec",
   "metadata": {},
   "outputs": [],
   "source": [
    "#Abriendo archivo desde pandas\n",
    "arch= \"correos.csv\"\n",
    "lista =pd.read_csv(arch, header=0)\n",
    "#lista"
   ]
  },
  {
   "cell_type": "code",
   "execution_count": 161,
   "id": "b9368f0f",
   "metadata": {},
   "outputs": [],
   "source": [
    "correos=lista['email']"
   ]
  },
  {
   "cell_type": "code",
   "execution_count": 158,
   "id": "31b58983",
   "metadata": {},
   "outputs": [
    {
     "name": "stdout",
     "output_type": "stream",
     "text": [
      "['gmail' 'darakjy' 'venere' 'hotmail' 'cox' 'morasca' 'yahoo' 'aol' 'rim'\n",
      " 'royster' 'slusarski' 'caudy' 'chui' 'corrio' 'vocelka' 'glick' 'shinko'\n",
      " 'ostrosky' 'perin' 'saylors' 'briddick' 'bowley']\n"
     ]
    },
    {
     "name": "stderr",
     "output_type": "stream",
     "text": [
      "/var/folders/vh/v5ldw54s76n8lqr_y_1sy1l80000gn/T/ipykernel_55465/3174121514.py:14: FutureWarning: elementwise comparison failed; returning scalar instead, but in the future will perform elementwise comparison\n",
      "  if i not in listaDominios:\n"
     ]
    }
   ],
   "source": [
    "\n",
    "listaDom= np.array([])\n",
    "\n",
    "for i in correos:\n",
    "    a= i.split('@')\n",
    "    terminacion=a[1]\n",
    "    d=terminacion.split('.')\n",
    "    dominios= d[0]\n",
    "    #print(dominios)\n",
    "    listaDom=np.append(listaDom,dominios)\n",
    "\n",
    "listaDominios= np.array([])\n",
    "\n",
    "for i in listaDom:\n",
    "    if i not in listaDominios:\n",
    "        listaDominios=np.append(listaDominios,i)\n",
    "\n",
    "#for j in listaDom:\n",
    "    \n",
    "print(listaDominios)"
   ]
  },
  {
   "cell_type": "markdown",
   "id": "6e3a26c0",
   "metadata": {},
   "source": [
    "## Parte 2"
   ]
  },
  {
   "cell_type": "code",
   "execution_count": 184,
   "id": "df288186",
   "metadata": {},
   "outputs": [
    {
     "name": "stdout",
     "output_type": "stream",
     "text": [
      "              Usuario  Número de Vocales\n",
      "0               jbutt                  1\n",
      "1   josephine_darakjy                  6\n",
      "2                 art                  1\n",
      "3           lpaprocki                  3\n",
      "4      donette.foller                  5\n",
      "5              simona                  3\n",
      "6      mitsue_tollner                  5\n",
      "7               leota                  3\n",
      "8         sage_wieser                  5\n",
      "9                kris                  1\n",
      "10       minna_amigon                  5\n",
      "11           amaclead                  4\n",
      "12    kiley.caldarera                  6\n",
      "13              gruta                  2\n",
      "14           calbares                  3\n",
      "15             mattie                  3\n",
      "16            meaghan                  3\n",
      "17         gladys.rim                  2\n",
      "18       yuki_whobrey                  4\n",
      "19     fletcher.flosi                  4\n",
      "20        bette_nicka                  4\n",
      "21            vinouye                  4\n",
      "22            willard                  2\n",
      "23           mroyster                  2\n",
      "24             alisha                  3\n",
      "25    allene_iturbide                  7\n",
      "26       chanel.caudy                  4\n",
      "27            ezekiel                  4\n",
      "28             wkusko                  2\n",
      "29           bfigeroa                  4\n",
      "30              ammie                  3\n",
      "31   francine_vocelka                  6\n",
      "32     ernie_stenseth                  5\n",
      "33             albina                  3\n",
      "34             asergi                  3\n",
      "35            solange                  3\n",
      "36               jose                  2\n",
      "37   rozella.ostrosky                  5\n",
      "38  valentine_gillian                  7\n",
      "39     kati.rulapaugh                  6\n",
      "40           youlanda                  4\n",
      "41           doldroyd                  2\n",
      "42             roxane                  3\n",
      "43             lperin                  2\n",
      "44      erick.ferencz                  4\n",
      "45           fsaylors                  2\n",
      "46      jina_briddick                  4\n",
      "47    kanisha_waycott                  5\n",
      "48     emerson.bowley                  5\n",
      "49             bmalet                  2\n"
     ]
    }
   ],
   "source": [
    "vocales = ['a','e','i','o','u']\n",
    "\n",
    "usuarios= []\n",
    "noVocales=[]\n",
    "letras=[]\n",
    "vocalesPalabra=[]\n",
    "noVocales=[]\n",
    "\n",
    "\n",
    "for i in correos:\n",
    "    a= i.split('@')\n",
    "    usuario=a[0]\n",
    "    usuarios.append(usuario)\n",
    "\n",
    "for i in usuarios:\n",
    "    for j in i: \n",
    "        letras.append(j)\n",
    "    \n",
    "    for m in letras:\n",
    "        if m in vocales:\n",
    "            vocalesPalabra.append(m)\n",
    "    noVocales.append(len(vocalesPalabra))\n",
    "    vocalesPalabra.clear()\n",
    "    letras.clear()\n",
    "\n",
    "#crear dataFrame\n",
    "datos= {\"Usuario\": usuarios, \"Número de Vocales\": noVocales}\n",
    "df = pd.DataFrame(datos)\n",
    "\n",
    "#convertir DataFrame en documento CSV\n",
    "df.to_csv(\"nvoDocUsuarios.csv\")\n",
    "print(df)"
   ]
  },
  {
   "cell_type": "code",
   "execution_count": null,
   "id": "b8838305",
   "metadata": {},
   "outputs": [],
   "source": []
  }
 ],
 "metadata": {
  "kernelspec": {
   "display_name": "Python 3 (ipykernel)",
   "language": "python",
   "name": "python3"
  },
  "language_info": {
   "codemirror_mode": {
    "name": "ipython",
    "version": 3
   },
   "file_extension": ".py",
   "mimetype": "text/x-python",
   "name": "python",
   "nbconvert_exporter": "python",
   "pygments_lexer": "ipython3",
   "version": "3.9.13"
  }
 },
 "nbformat": 4,
 "nbformat_minor": 5
}
